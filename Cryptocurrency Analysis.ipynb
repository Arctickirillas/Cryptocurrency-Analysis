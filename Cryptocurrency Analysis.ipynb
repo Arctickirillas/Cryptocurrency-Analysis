{
 "cells": [
  {
   "cell_type": "code",
   "execution_count": 1,
   "metadata": {
    "collapsed": true
   },
   "outputs": [],
   "source": [
    "import pandas as pd\n",
    "import numpy as np\n",
    "import urllib.request\n",
    "import json\n",
    "from bs4 import BeautifulSoup \n",
    "import time, datetime, re\n",
    "from tqdm import tqdm\n",
    "\n",
    "import matplotlib.pyplot as plt\n",
    "import cvxopt as opt\n",
    "from cvxopt import blas, solvers\n",
    "%matplotlib inline"
   ]
  },
  {
   "cell_type": "code",
   "execution_count": 24,
   "metadata": {
    "collapsed": true
   },
   "outputs": [],
   "source": [
    "from highcharts import Highchart"
   ]
  },
  {
   "cell_type": "markdown",
   "metadata": {},
   "source": [
    "### Ticker price"
   ]
  },
  {
   "cell_type": "code",
   "execution_count": 2,
   "metadata": {
    "collapsed": false
   },
   "outputs": [],
   "source": [
    "def to_real_date(date): return datetime.datetime.fromtimestamp((date/1000)).strftime('%d-%m-%Y')"
   ]
  },
  {
   "cell_type": "markdown",
   "metadata": {},
   "source": [
    "## Coingecko"
   ]
  },
  {
   "cell_type": "markdown",
   "metadata": {},
   "source": [
    "### Get token name list"
   ]
  },
  {
   "cell_type": "code",
   "execution_count": 3,
   "metadata": {
    "collapsed": false
   },
   "outputs": [
    {
     "name": "stderr",
     "output_type": "stream",
     "text": [
      "/Library/Frameworks/Python.framework/Versions/3.4/lib/python3.4/site-packages/ipykernel/__main__.py:4: DeprecationWarning: AppURLopener style of invoking requests is deprecated. Use newer urlopen functions/methods\n"
     ]
    }
   ],
   "source": [
    "class AppURLopener(urllib.request.FancyURLopener):\n",
    "    version = \"Mozilla/6.0\"\n",
    "\n",
    "opener = AppURLopener()\n",
    "response = opener.open('https://coingecko.com/en/')\n",
    "soup = BeautifulSoup(response.read(),\"html.parser\")"
   ]
  },
  {
   "cell_type": "code",
   "execution_count": 4,
   "metadata": {
    "collapsed": false
   },
   "outputs": [],
   "source": [
    "tokens = [link.get('href')[10:] for i,link in enumerate(soup.findAll('a', href=re.compile('^/en/coins/'))) if i % 2 == 0]"
   ]
  },
  {
   "cell_type": "markdown",
   "metadata": {},
   "source": [
    "### Get price data"
   ]
  },
  {
   "cell_type": "code",
   "execution_count": 6,
   "metadata": {
    "collapsed": false
   },
   "outputs": [
    {
     "name": "stderr",
     "output_type": "stream",
     "text": [
      "/Library/Frameworks/Python.framework/Versions/3.4/lib/python3.4/site-packages/ipykernel/__main__.py:4: DeprecationWarning: AppURLopener style of invoking requests is deprecated. Use newer urlopen functions/methods\n",
      "100%|██████████| 100/100 [00:53<00:00,  1.57it/s]\n"
     ]
    }
   ],
   "source": [
    "class AppURLopener(urllib.request.FancyURLopener):\n",
    "    version = \"Mozilla/5.0\"\n",
    "\n",
    "opener = AppURLopener()\n",
    "\n",
    "price_list = []\n",
    "date = ''\n",
    "for token in tqdm(tokens):\n",
    "    response = opener.open('https://coingecko.com/en/price_charts/'+token+'/usd/90_days.json/')\n",
    "    data_soup = BeautifulSoup(response.read(),\"html.parser\")\n",
    "    price_list.append(np.resize(np.array(json.loads(str(data_soup))['stats'])[:,1], 90))\n",
    "    date = np.resize(np.array(json.loads(str(data_soup))['stats'])[:,0], 90)"
   ]
  },
  {
   "cell_type": "markdown",
   "metadata": {},
   "source": [
    "### Top 20"
   ]
  },
  {
   "cell_type": "code",
   "execution_count": 7,
   "metadata": {
    "collapsed": true
   },
   "outputs": [],
   "source": [
    "data = pd.DataFrame.from_items(zip(tokens[:20], price_list[:20]))\n",
    "data.index = [to_real_date(d) for d in date]"
   ]
  },
  {
   "cell_type": "code",
   "execution_count": 12,
   "metadata": {
    "collapsed": false
   },
   "outputs": [
    {
     "data": {
      "text/html": [
       "<div>\n",
       "<table border=\"1\" class=\"dataframe\">\n",
       "  <thead>\n",
       "    <tr style=\"text-align: right;\">\n",
       "      <th></th>\n",
       "      <th>bitcoin</th>\n",
       "      <th>ethereum</th>\n",
       "      <th>litecoin</th>\n",
       "      <th>monero</th>\n",
       "      <th>ripple</th>\n",
       "    </tr>\n",
       "  </thead>\n",
       "  <tbody>\n",
       "    <tr>\n",
       "      <th>23-06-2017</th>\n",
       "      <td>2729.022521</td>\n",
       "      <td>328.182023</td>\n",
       "      <td>48.086894</td>\n",
       "      <td>51.052254</td>\n",
       "      <td>0.297616</td>\n",
       "    </tr>\n",
       "    <tr>\n",
       "      <th>24-06-2017</th>\n",
       "      <td>2742.423897</td>\n",
       "      <td>332.670907</td>\n",
       "      <td>47.810103</td>\n",
       "      <td>52.117717</td>\n",
       "      <td>0.319188</td>\n",
       "    </tr>\n",
       "    <tr>\n",
       "      <th>25-06-2017</th>\n",
       "      <td>2618.254116</td>\n",
       "      <td>307.325867</td>\n",
       "      <td>44.242384</td>\n",
       "      <td>48.264772</td>\n",
       "      <td>0.310828</td>\n",
       "    </tr>\n",
       "    <tr>\n",
       "      <th>26-06-2017</th>\n",
       "      <td>2597.045223</td>\n",
       "      <td>283.097746</td>\n",
       "      <td>44.412916</td>\n",
       "      <td>46.820969</td>\n",
       "      <td>0.300073</td>\n",
       "    </tr>\n",
       "    <tr>\n",
       "      <th>27-06-2017</th>\n",
       "      <td>2467.795464</td>\n",
       "      <td>248.888609</td>\n",
       "      <td>40.535436</td>\n",
       "      <td>44.092491</td>\n",
       "      <td>0.277288</td>\n",
       "    </tr>\n",
       "  </tbody>\n",
       "</table>\n",
       "</div>"
      ],
      "text/plain": [
       "                bitcoin    ethereum   litecoin     monero    ripple\n",
       "23-06-2017  2729.022521  328.182023  48.086894  51.052254  0.297616\n",
       "24-06-2017  2742.423897  332.670907  47.810103  52.117717  0.319188\n",
       "25-06-2017  2618.254116  307.325867  44.242384  48.264772  0.310828\n",
       "26-06-2017  2597.045223  283.097746  44.412916  46.820969  0.300073\n",
       "27-06-2017  2467.795464  248.888609  40.535436  44.092491  0.277288"
      ]
     },
     "execution_count": 12,
     "metadata": {},
     "output_type": "execute_result"
    }
   ],
   "source": [
    "data.head().ix[:,:5]"
   ]
  },
  {
   "cell_type": "markdown",
   "metadata": {},
   "source": [
    "## Poloniex"
   ]
  },
  {
   "cell_type": "markdown",
   "metadata": {},
   "source": [
    "### Get token name list"
   ]
  },
  {
   "cell_type": "code",
   "execution_count": 458,
   "metadata": {
    "collapsed": false
   },
   "outputs": [
    {
     "name": "stderr",
     "output_type": "stream",
     "text": [
      "/Library/Frameworks/Python.framework/Versions/3.4/lib/python3.4/site-packages/ipykernel/__main__.py:1: DeprecationWarning: AppURLopener style of invoking requests is deprecated. Use newer urlopen functions/methods\n",
      "  if __name__ == '__main__':\n"
     ]
    }
   ],
   "source": [
    "opener = AppURLopener()\n",
    "response = opener.open('https://poloniex.com/public?command=returnCurrencies')\n",
    "soup = BeautifulSoup(response.read(),\"html.parser\")"
   ]
  },
  {
   "cell_type": "code",
   "execution_count": 466,
   "metadata": {
    "collapsed": false
   },
   "outputs": [
    {
     "data": {
      "text/plain": [
       "287"
      ]
     },
     "execution_count": 466,
     "metadata": {},
     "output_type": "execute_result"
    }
   ],
   "source": [
    "tokens = [token for token in json.loads(str(soup))]\n",
    "tokens_full_name = [json.loads(str(soup))[token]['name'] for token in tokens]"
   ]
  },
  {
   "cell_type": "markdown",
   "metadata": {},
   "source": [
    "### Get price data"
   ]
  },
  {
   "cell_type": "code",
   "execution_count": null,
   "metadata": {
    "collapsed": false
   },
   "outputs": [],
   "source": [
    "data_list = []\n",
    "tokens_in_data = []\n",
    "for token in tqdm(tokens):\n",
    "    response = opener.open('https://poloniex.com/public?command=returnChartData&currencyPair=BTC_'+token\n",
    "                           +'&start=1496275200&end=9999999999&period=900')\n",
    "    soup = BeautifulSoup(response.read(),\"html.parser\")\n",
    "    if (str(soup)) != '{\"error\":\"Invalid currency pair.\"}':\n",
    "        tokens_in_data.append(token)\n",
    "        data_list.append((str(soup)))"
   ]
  },
  {
   "cell_type": "code",
   "execution_count": null,
   "metadata": {
    "collapsed": false
   },
   "outputs": [],
   "source": [
    "data_full = [pd.read_json(json) for json in data_list]\n",
    "\n",
    "for i,_ in enumerate(data_full):\n",
    "    data_full[i].set_index('date',inplace=True)\n",
    "\n",
    "data = pd.concat([data.ix[:,'close'] for data in data_full],axis=1)\n",
    "\n",
    "data = data.fillna(0)"
   ]
  },
  {
   "cell_type": "code",
   "execution_count": null,
   "metadata": {
    "collapsed": true
   },
   "outputs": [],
   "source": [
    "response = opener.open('https://poloniex.com/public?command=returnChartData&currencyPair=USDT_BTC&start=1496275200&end=9999999999&period=900')\n",
    "soup = BeautifulSoup(response.read(),\"html.parser\")\n",
    "\n",
    "tokens_in_data.append('BTC')"
   ]
  },
  {
   "cell_type": "code",
   "execution_count": null,
   "metadata": {
    "collapsed": false
   },
   "outputs": [],
   "source": [
    "btc = pd.read_json(str(soup))\n",
    "btc.set_index('date',inplace=True)\n",
    "\n",
    "data = pd.concat([data, btc['close']],axis=1)\n",
    "data.columns = tokens_in_data\n",
    "\n",
    "data.head()"
   ]
  },
  {
   "cell_type": "code",
   "execution_count": null,
   "metadata": {
    "collapsed": false
   },
   "outputs": [],
   "source": [
    "for col in data.columns[:-1]:\n",
    "    data[col] = data[col].values*(data['BTC']).values"
   ]
  },
  {
   "cell_type": "markdown",
   "metadata": {},
   "source": [
    "## Markowitz portfolio "
   ]
  },
  {
   "cell_type": "code",
   "execution_count": 9,
   "metadata": {
    "collapsed": true
   },
   "outputs": [],
   "source": [
    "def get_redundant_pairs(df):\n",
    "    pairs_to_drop = set()\n",
    "    cols = df.columns\n",
    "    for i in range(0, df.shape[1]):\n",
    "        for j in range(0, i+1):\n",
    "            pairs_to_drop.add((cols[i], cols[j]))\n",
    "    return pairs_to_drop"
   ]
  },
  {
   "cell_type": "code",
   "execution_count": 10,
   "metadata": {
    "collapsed": true
   },
   "outputs": [],
   "source": [
    "def get_top_abs_correlations(df, n=5):\n",
    "    au_corr = df.corr().abs().unstack()\n",
    "    labels_to_drop = get_redundant_pairs(df)\n",
    "    au_corr = au_corr.drop(labels=labels_to_drop).sort_values(ascending=False)\n",
    "    return au_corr[0:n]"
   ]
  },
  {
   "cell_type": "code",
   "execution_count": 11,
   "metadata": {
    "collapsed": false
   },
   "outputs": [
    {
     "data": {
      "text/plain": [
       "monero            dash         0.996931\n",
       "dogecoin          bitshares    0.993861\n",
       "bitshares         siacoin      0.993178\n",
       "dogecoin          siacoin      0.990871\n",
       "monero            lisk         0.990845\n",
       "ethereum-classic  dogecoin     0.984553\n",
       "dash              lisk         0.980623\n",
       "bitshares         golem        0.978486\n",
       "litecoin          lisk         0.978420\n",
       "ethereum          waves        0.977721\n",
       "dtype: float64"
      ]
     },
     "execution_count": 11,
     "metadata": {},
     "output_type": "execute_result"
    }
   ],
   "source": [
    "get_top_abs_correlations(data.ix[:,:].corr(),10)"
   ]
  },
  {
   "cell_type": "markdown",
   "metadata": {},
   "source": [
    "### Build portfolios, reference to S666"
   ]
  },
  {
   "cell_type": "code",
   "execution_count": 13,
   "metadata": {
    "collapsed": false
   },
   "outputs": [],
   "source": [
    "returns = data.pct_change()\n",
    "mean_daily_returns = np.array(returns.mean())\n",
    "cov_matrix = returns.cov()"
   ]
  },
  {
   "cell_type": "code",
   "execution_count": 27,
   "metadata": {
    "collapsed": false
   },
   "outputs": [
    {
     "data": {
      "text/plain": [
       "<matplotlib.collections.PathCollection at 0x10c0058d0>"
      ]
     },
     "execution_count": 27,
     "metadata": {},
     "output_type": "execute_result"
    },
    {
     "name": "stderr",
     "output_type": "stream",
     "text": [
      "/Library/Frameworks/Python.framework/Versions/3.4/lib/python3.4/site-packages/matplotlib/collections.py:590: FutureWarning: elementwise comparison failed; returning scalar instead, but in the future will perform elementwise comparison\n",
      "  if self._edgecolors == str('face'):\n"
     ]
    },
    {
     "data": {
      "image/png": "[encoded data removed]",
      "text/plain": [
       "<matplotlib.figure.Figure at 0x10aca8630>"
      ]
     },
     "metadata": {},
     "output_type": "display_data"
    }
   ],
   "source": [
    "num_portfolios = 100000\n",
    " \n",
    "#set up array to hold results\n",
    "#We have increased the size of the array to hold the weight values for each stock\n",
    "results = np.zeros((4+len(tokens[:20])-1,num_portfolios))\n",
    "# results = np.zeros((4+57-1,num_portfolios)) \n",
    "for i in range(num_portfolios):\n",
    "    #select random weights for portfolio holdings\n",
    "    weights = np.array(np.random.random(20))\n",
    "    #rebalance weights to sum to 1\n",
    "    weights /= np.sum(weights)\n",
    "    \n",
    "    #calculate portfolio return and volatility * days\n",
    "    portfolio_return = np.sum(mean_daily_returns * weights) * 90\n",
    "    portfolio_std_dev = np.sqrt(np.dot(weights.T,np.dot(cov_matrix, weights))) *np.sqrt(90)\n",
    " \n",
    "    #store results in results array\n",
    "    results[0,i] = portfolio_return\n",
    "    results[1,i] = portfolio_std_dev\n",
    "    #store Sharpe Ratio (return / volatility) - risk free rate element excluded for simplicity\n",
    "    results[2,i] = results[0,i] / results[1,i]\n",
    "    #iterate through the weight vector and add data to results array\n",
    "    for j in range(len(weights)):\n",
    "        results[j+3,i] = weights[j]\n",
    "\n",
    "\n",
    "results_frame = pd.DataFrame(results.T,columns=sum([['ret','stdev','sharpe'], tokens[:20]], []))\n",
    "\n",
    "# results_frame = pd.DataFrame(results.T,columns=sum([['ret','stdev','sharpe'], data.columns.values.tolist()], []))\n",
    "#locate position of portfolio with highest Sharpe Ratio\n",
    "max_sharpe_port = results_frame.iloc[results_frame['sharpe'].idxmax()]\n",
    "#locate positon of portfolio with minimum standard deviation\n",
    "min_vol_port = results_frame.iloc[results_frame['stdev'].idxmin()]\n",
    " \n",
    "#create scatter plot coloured by Sharpe Ratio\n",
    "plt.scatter(results_frame.stdev,results_frame.ret,c=results_frame.sharpe,cmap='RdYlBu')\n",
    "plt.xlabel('Volatility')\n",
    "plt.ylabel('Returns')\n",
    "plt.colorbar()\n",
    "#plot red star to highlight position of portfolio with highest Sharpe Ratio\n",
    "plt.scatter(max_sharpe_port[1],max_sharpe_port[0],marker=(5,1,0),color='r',s=100)\n",
    "#plot green star to highlight position of minimum variance portfolio\n",
    "plt.scatter(min_vol_port[1],min_vol_port[0],marker=(5,3,1),color='g',s=100)"
   ]
  },
  {
   "cell_type": "code",
   "execution_count": 28,
   "metadata": {
    "collapsed": false
   },
   "outputs": [
    {
     "name": "stdout",
     "output_type": "stream",
     "text": [
      "Max Sharpe\n",
      "ret       0.755165\n",
      "stdev     0.606215\n",
      "sharpe    1.245705\n",
      "Name: 18810, dtype: float64\n",
      "Min Vol\n",
      "ret       0.207101\n",
      "stdev     0.526927\n",
      "sharpe    0.393035\n",
      "Name: 55789, dtype: float64\n"
     ]
    }
   ],
   "source": [
    "print('Max Sharpe')\n",
    "print(max_sharpe_port[:3])\n",
    "print('Min Vol')\n",
    "print(min_vol_port[:3])"
   ]
  },
  {
   "cell_type": "markdown",
   "metadata": {},
   "source": [
    "### Plots"
   ]
  },
  {
   "cell_type": "code",
   "execution_count": 29,
   "metadata": {
    "collapsed": false
   },
   "outputs": [
    {
     "data": {
      "text/html": [
       "<iframe style=\"border:0;outline:none;overflow:hidden\" src=\"data:text/html,&lt;!DOCTYPE html&gt; &lt;html lang=&quot;en&quot;&gt; &lt;head&gt; &lt;meta charset=&quot;utf-8&quot; /&gt; &lt;link href=&quot;https://www.highcharts.com/highslide/highslide.css&quot; rel=&quot;stylesheet&quot; /&gt; &lt;script type=&quot;text/javascript&quot; src=&quot;https://ajax.googleapis.com/ajax/libs/jquery/1.9.1/jquery.min.js&quot;&gt;&lt;/script&gt; &lt;script type=&quot;text/javascript&quot; src=&quot;https://code.highcharts.com/highcharts.js&quot;&gt;&lt;/script&gt; &lt;script type=&quot;text/javascript&quot; src=&quot;https://code.highcharts.com/highcharts-more.js&quot;&gt;&lt;/script&gt; &lt;script type=&quot;text/javascript&quot; src=&quot;https://code.highcharts.com/modules/heatmap.js&quot;&gt;&lt;/script&gt; &lt;script type=&quot;text/javascript&quot; src=&quot;https://code.highcharts.com/modules/exporting.js&quot;&gt;&lt;/script&gt; &lt;script type=&quot;text/javascript&quot; src=&quot;http://code.highcharts.com/highcharts-3d.js&quot;&gt;&lt;/script&gt; &lt;/head&gt; &lt;body style=&quot;margin:0;padding:0&quot;&gt; &lt;div id=&quot;container&quot; style=&quot;width:850px;height:400px;&quot;&gt;Loading....&lt;/div&gt; &lt;script&gt; $(function(){ Highcharts.setOptions({&quot;lang&quot;: {}, &quot;global&quot;: {}}); var option = {&quot;chart&quot;: {&quot;renderTo&quot;: &quot;container&quot;, &quot;options3d&quot;: {&quot;alpha&quot;: 45, &quot;enabled&quot;: true}, &quot;type&quot;: &quot;pie&quot;, &quot;width&quot;: 850, &quot;height&quot;: 400}, &quot;pane&quot;: {}, &quot;labels&quot;: {}, &quot;xAxis&quot;: {}, &quot;yAxis&quot;: {}, &quot;credits&quot;: {&quot;enabled&quot;: false}, &quot;drilldown&quot;: {}, &quot;loading&quot;: {}, &quot;legend&quot;: {}, &quot;tooltip&quot;: {&quot;pointFormat&quot;: &quot;{series.name}: &lt;b&gt;{point.percentage:.1f}%&lt;/b&gt;&quot;, &quot;valueSuffix&quot;: &quot;%&quot;}, &quot;title&quot;: {&quot;text&quot;: &quot;Markowitz portfolio for top 20 cryptocurrency&quot;}, &quot;exporting&quot;: {}, &quot;series&quot;: {}, &quot;plotOptions&quot;: {&quot;pie&quot;: {&quot;allowPointSelect&quot;: true, &quot;cursor&quot;: &quot;pointer&quot;, &quot;innerSize&quot;: 100, &quot;dataLabels&quot;: {&quot;format&quot;: &quot;{point.name}: &lt;b&gt;{point.percentage:.1f}%&lt;/b&gt; &quot;, &quot;enabled&quot;: true}, &quot;depth&quot;: 45}}, &quot;navigation&quot;: {}, &quot;subtitle&quot;: {&quot;text&quot;: &quot;Shares of tokens with minimum volatility&quot;}, &quot;colors&quot;: {}}; var data = [{&quot;name&quot;: &quot;Share&quot;, &quot;type&quot;: &quot;pie&quot;, &quot;data&quot;: [[&quot;dogecoin&quot;, 0.07819966402212626], [&quot;zcash&quot;, 0.09048689379399553], [&quot;bitshares&quot;, 0.002479073698303542], [&quot;ripple&quot;, 0.07755337252771104], [&quot;bitcoin&quot;, 0.08333823758976869], [&quot;litecoin&quot;, 0.08405954254585747], [&quot;neo&quot;, 0.03743071852435802], [&quot;dash&quot;, 0.08385214909827979], [&quot;eos&quot;, 0.034965571246745354], [&quot;status&quot;, 0.09369023923510612], [&quot;augur&quot;, 0.025027141751484426], [&quot;bitcoin-cash&quot;, 0.04705333064718739], [&quot;iota&quot;, 0.02725377467420948], [&quot;ethereum&quot;, 0.041702337624039326], [&quot;ethereum-classic&quot;, 0.08502208758731417], [&quot;siacoin&quot;, 0.005301783918539117], [&quot;golem&quot;, 0.07718034708993059], [&quot;monero&quot;, 0.0007276949801925773], [&quot;waves&quot;, 0.012902823410513102], [&quot;lisk&quot;, 0.011773216034338146]]}]; option.series = data; var chart = new Highcharts.Chart(option); }); &lt;/script&gt; &lt;/body&gt; &lt;/html&gt;\" height=400 width=850></iframe>"
      ],
      "text/plain": [
       "<highcharts.highcharts.highcharts.Highchart at 0x10acb29e8>"
      ]
     },
     "execution_count": 29,
     "metadata": {},
     "output_type": "execute_result"
    }
   ],
   "source": [
    "H = Highchart(width = 850, height = 400)\n",
    "options = {\n",
    "    'chart': {\n",
    "        'type': 'pie',\n",
    "        'options3d': {\n",
    "            'enabled': True,\n",
    "            'alpha': 45\n",
    "        },\n",
    "        \n",
    "    },\n",
    "    'title': {\n",
    "        'text': \"Markowitz portfolio for top 20 cryptocurrency\"\n",
    "    },\n",
    "    'subtitle': {\n",
    "        'text': 'Shares of tokens with minimum volatility'\n",
    "    },\n",
    "    'plotOptions': {\n",
    "        'pie': {\n",
    "            'allowPointSelect': True,\n",
    "            'cursor': 'pointer',\n",
    "            'innerSize': 100,\n",
    "            'depth': 45,\n",
    "            'dataLabels': {\n",
    "                'enabled': True,\n",
    "                'format': '{point.name}: <b>{point.percentage:.1f}%</b> ',\n",
    "            },\n",
    "            \n",
    "        }        \n",
    "    },\n",
    "    'tooltip': {\n",
    "        'valueSuffix': '%',\n",
    "        'pointFormat': '{series.name}: <b>{point.percentage:.1f}%</b>',\n",
    "        \n",
    "    }\n",
    "}\n",
    "\n",
    "\n",
    "\n",
    "H.set_dict_options(options)\n",
    "H.add_data_set([[token, min_vol_port[token]] for token in min_vol_port[3:].to_dict()], 'pie', 'Share')\n",
    "\n",
    "H"
   ]
  },
  {
   "cell_type": "code",
   "execution_count": 30,
   "metadata": {
    "collapsed": false
   },
   "outputs": [
    {
     "data": {
      "text/html": [
       "<iframe style=\"border:0;outline:none;overflow:hidden\" src=\"data:text/html,&lt;!DOCTYPE html&gt; &lt;html lang=&quot;en&quot;&gt; &lt;head&gt; &lt;meta charset=&quot;utf-8&quot; /&gt; &lt;link href=&quot;https://www.highcharts.com/highslide/highslide.css&quot; rel=&quot;stylesheet&quot; /&gt; &lt;script type=&quot;text/javascript&quot; src=&quot;https://ajax.googleapis.com/ajax/libs/jquery/1.9.1/jquery.min.js&quot;&gt;&lt;/script&gt; &lt;script type=&quot;text/javascript&quot; src=&quot;https://code.highcharts.com/highcharts.js&quot;&gt;&lt;/script&gt; &lt;script type=&quot;text/javascript&quot; src=&quot;https://code.highcharts.com/highcharts-more.js&quot;&gt;&lt;/script&gt; &lt;script type=&quot;text/javascript&quot; src=&quot;https://code.highcharts.com/modules/heatmap.js&quot;&gt;&lt;/script&gt; &lt;script type=&quot;text/javascript&quot; src=&quot;https://code.highcharts.com/modules/exporting.js&quot;&gt;&lt;/script&gt; &lt;script type=&quot;text/javascript&quot; src=&quot;http://code.highcharts.com/highcharts-3d.js&quot;&gt;&lt;/script&gt; &lt;/head&gt; &lt;body style=&quot;margin:0;padding:0&quot;&gt; &lt;div id=&quot;container&quot; style=&quot;width:850px;height:400px;&quot;&gt;Loading....&lt;/div&gt; &lt;script&gt; $(function(){ Highcharts.setOptions({&quot;lang&quot;: {}, &quot;global&quot;: {}}); var option = {&quot;chart&quot;: {&quot;renderTo&quot;: &quot;container&quot;, &quot;options3d&quot;: {&quot;alpha&quot;: 45, &quot;enabled&quot;: true}, &quot;type&quot;: &quot;pie&quot;, &quot;width&quot;: 850, &quot;height&quot;: 400}, &quot;pane&quot;: {}, &quot;labels&quot;: {}, &quot;xAxis&quot;: {}, &quot;yAxis&quot;: {}, &quot;credits&quot;: {&quot;enabled&quot;: false}, &quot;drilldown&quot;: {}, &quot;loading&quot;: {}, &quot;legend&quot;: {}, &quot;tooltip&quot;: {&quot;pointFormat&quot;: &quot;{series.name}: &lt;b&gt;{point.percentage:.1f}%&lt;/b&gt;&quot;, &quot;valueSuffix&quot;: &quot;%&quot;}, &quot;title&quot;: {&quot;text&quot;: &quot;Markowitz portfolio for top 20 cryptocurrency&quot;}, &quot;exporting&quot;: {}, &quot;series&quot;: {}, &quot;plotOptions&quot;: {&quot;pie&quot;: {&quot;allowPointSelect&quot;: true, &quot;cursor&quot;: &quot;pointer&quot;, &quot;innerSize&quot;: 100, &quot;dataLabels&quot;: {&quot;format&quot;: &quot;{point.name}: &lt;b&gt;{point.percentage:.1f}%&lt;/b&gt; &quot;, &quot;enabled&quot;: true}, &quot;depth&quot;: 45}}, &quot;navigation&quot;: {}, &quot;subtitle&quot;: {&quot;text&quot;: &quot;Shares of tokens with maximum Sharpe coefficient&quot;}, &quot;colors&quot;: {}}; var data = [{&quot;name&quot;: &quot;Share&quot;, &quot;type&quot;: &quot;pie&quot;, &quot;data&quot;: [[&quot;dogecoin&quot;, 0.005959580867475255], [&quot;zcash&quot;, 0.04772107563657235], [&quot;bitshares&quot;, 0.0023603254429104053], [&quot;ripple&quot;, 0.0261936000112756], [&quot;bitcoin&quot;, 0.13833951244870768], [&quot;litecoin&quot;, 0.03825410934442262], [&quot;neo&quot;, 0.10917743530750887], [&quot;dash&quot;, 0.06910437009374246], [&quot;eos&quot;, 0.09110371924235097], [&quot;status&quot;, 0.05842428224552703], [&quot;augur&quot;, 0.0224458363145228], [&quot;bitcoin-cash&quot;, 0.045462135646019884], [&quot;iota&quot;, 0.1499092357887609], [&quot;ethereum&quot;, 0.02879762081750566], [&quot;ethereum-classic&quot;, 0.014193654843727624], [&quot;siacoin&quot;, 0.0043298665286521576], [&quot;golem&quot;, 0.010474181126901561], [&quot;monero&quot;, 0.07069486560336698], [&quot;waves&quot;, 0.008202877151058014], [&quot;lisk&quot;, 0.05885171553899122]]}]; option.series = data; var chart = new Highcharts.Chart(option); }); &lt;/script&gt; &lt;/body&gt; &lt;/html&gt;\" height=400 width=850></iframe>"
      ],
      "text/plain": [
       "<highcharts.highcharts.highcharts.Highchart at 0x10aca2be0>"
      ]
     },
     "execution_count": 30,
     "metadata": {},
     "output_type": "execute_result"
    }
   ],
   "source": [
    "H = Highchart(width = 850, height = 400)\n",
    "options = {\n",
    "    'chart': {\n",
    "        'type': 'pie',\n",
    "        'options3d': {\n",
    "            'enabled': True,\n",
    "            'alpha': 45\n",
    "        },\n",
    "        \n",
    "    },\n",
    "    'title': {\n",
    "        'text': \"Markowitz portfolio for top 20 cryptocurrency\"\n",
    "    },\n",
    "    'subtitle': {\n",
    "        'text': 'Shares of tokens with maximum Sharpe coefficient'\n",
    "    },\n",
    "    'plotOptions': {\n",
    "        'pie': {\n",
    "            'allowPointSelect': True,\n",
    "            'cursor': 'pointer',\n",
    "            'innerSize': 100,\n",
    "            'depth': 45,\n",
    "            'dataLabels': {\n",
    "                'enabled': True,\n",
    "                'format': '{point.name}: <b>{point.percentage:.1f}%</b> ',\n",
    "            },\n",
    "            \n",
    "        }        \n",
    "    },\n",
    "    'tooltip': {\n",
    "        'valueSuffix': '%',\n",
    "        'pointFormat': '{series.name}: <b>{point.percentage:.1f}%</b>',\n",
    "        \n",
    "    },\n",
    "}\n",
    "\n",
    "\n",
    "\n",
    "H.set_dict_options(options)\n",
    "H.add_data_set([[token, max_sharpe_port[token]] for token in max_sharpe_port[3:].to_dict()], 'pie', 'Share')\n",
    "\n",
    "H"
   ]
  },
  {
   "cell_type": "markdown",
   "metadata": {},
   "source": [
    "### Random portfolio "
   ]
  },
  {
   "cell_type": "code",
   "execution_count": 405,
   "metadata": {
    "collapsed": true
   },
   "outputs": [],
   "source": [
    "from random import shuffle"
   ]
  },
  {
   "cell_type": "code",
   "execution_count": 446,
   "metadata": {
    "collapsed": false
   },
   "outputs": [],
   "source": [
    "random_index = [i for i in range(100)]\n",
    "shuffle(random_index)"
   ]
  },
  {
   "cell_type": "code",
   "execution_count": 453,
   "metadata": {
    "collapsed": true
   },
   "outputs": [],
   "source": [
    "main_t = tokens.copy()"
   ]
  },
  {
   "cell_type": "code",
   "execution_count": 454,
   "metadata": {
    "collapsed": false
   },
   "outputs": [],
   "source": [
    "data = pd.DataFrame.from_items(zip([tokens[i] for i in random_index[:20]],[price_list[i] for i in random_index[:20]]))\n",
    "data.index = [to_real_date(d) for d in date]\n",
    "tokens = [tokens[i] for i in random_index[:20]]"
   ]
  }
 ],
 "metadata": {
  "kernelspec": {
   "display_name": "Python 3",
   "language": "python",
   "name": "python3"
  },
  "language_info": {
   "codemirror_mode": {
    "name": "ipython",
    "version": 3
   },
   "file_extension": ".py",
   "mimetype": "text/x-python",
   "name": "python",
   "nbconvert_exporter": "python",
   "pygments_lexer": "ipython3",
   "version": "3.4.3"
  }
 },
 "nbformat": 4,
 "nbformat_minor": 0
}
